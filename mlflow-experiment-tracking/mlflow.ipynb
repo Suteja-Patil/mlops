{
 "cells": [
  {
   "cell_type": "code",
   "execution_count": null,
   "id": "d91bdb7c",
   "metadata": {},
   "outputs": [],
   "source": [
    "## Suteja Patil"
   ]
  },
  {
   "cell_type": "markdown",
   "id": "9a331349",
   "metadata": {},
   "source": [
    "## Green Taxi Trip Records for Jan, Feb and March 2023"
   ]
  },
  {
   "cell_type": "code",
   "execution_count": null,
   "id": "7a3fc992",
   "metadata": {},
   "outputs": [],
   "source": [
    "import pandas as pd"
   ]
  },
  {
   "cell_type": "code",
   "execution_count": null,
   "id": "4d97f837",
   "metadata": {},
   "outputs": [],
   "source": [
    "jan23 = pd.read_parquet('https://d37ci6vzurychx.cloudfront.net/trip-data/green_tripdata_2023-01.parquet')"
   ]
  },
  {
   "cell_type": "code",
   "execution_count": null,
   "id": "3bff3a04",
   "metadata": {},
   "outputs": [],
   "source": [
    "feb23 = pd.read_parquet('https://d37ci6vzurychx.cloudfront.net/trip-data/green_tripdata_2023-02.parquet')"
   ]
  },
  {
   "cell_type": "code",
   "execution_count": null,
   "id": "125debb7",
   "metadata": {},
   "outputs": [],
   "source": [
    "mar23 = pd.read_parquet('https://d37ci6vzurychx.cloudfront.net/trip-data/green_tripdata_2023-03.parquet')"
   ]
  },
  {
   "cell_type": "code",
   "execution_count": null,
   "id": "a543d510",
   "metadata": {},
   "outputs": [],
   "source": [
    "import os\n",
    "os.makedirs('./data')"
   ]
  },
  {
   "cell_type": "code",
   "execution_count": null,
   "id": "eb928926",
   "metadata": {},
   "outputs": [],
   "source": [
    "jan23.to_parquet('./data/green_tripdata_2023-01.parquet')\n",
    "feb23.to_parquet('./data/green_tripdata_2023-02.parquet')\n",
    "mar23.to_parquet('./data/green_tripdata_2023-03.parquet')"
   ]
  },
  {
   "cell_type": "code",
   "execution_count": null,
   "id": "1c567fd2",
   "metadata": {},
   "outputs": [],
   "source": [
    "!python preprocess_data.py --raw_data_path data/ --dest_path ./output"
   ]
  },
  {
   "cell_type": "markdown",
   "id": "fb65efbd",
   "metadata": {},
   "source": [
    "## Train a model with autolog"
   ]
  },
  {
   "cell_type": "markdown",
   "id": "79013733",
   "metadata": {},
   "source": []
  },
  {
   "cell_type": "code",
   "execution_count": null,
   "id": "79552dc8",
   "metadata": {},
   "outputs": [],
   "source": [
    "!mlflow server --backend-store-uri sqlite:///mlflow.db --default-artifact-root ./mlruns --host 127.0.0.1 --port 8080"
   ]
  },
  {
   "cell_type": "code",
   "execution_count": null,
   "id": "4b0eab46",
   "metadata": {},
   "outputs": [],
   "source": [
    "!python train.py"
   ]
  },
  {
   "cell_type": "markdown",
   "id": "83a98ac9",
   "metadata": {},
   "source": [
    "## Tune model hyperparameters"
   ]
  },
  {
   "cell_type": "code",
   "execution_count": null,
   "id": "0b5cad43",
   "metadata": {},
   "outputs": [],
   "source": [
    "!pip install hyperopt"
   ]
  },
  {
   "cell_type": "code",
   "execution_count": null,
   "id": "ae533717",
   "metadata": {},
   "outputs": [],
   "source": [
    "!python hpo.py"
   ]
  },
  {
   "cell_type": "markdown",
   "id": "124439b7",
   "metadata": {},
   "source": [
    "## Log the best model to mlflow registry"
   ]
  },
  {
   "cell_type": "code",
   "execution_count": null,
   "id": "e8e024ac",
   "metadata": {},
   "outputs": [],
   "source": [
    "!python register_model.py"
   ]
  }
 ],
 "metadata": {
  "kernelspec": {
   "display_name": "mlflow_env",
   "language": "python",
   "name": "python3"
  },
  "language_info": {
   "codemirror_mode": {
    "name": "ipython",
    "version": 3
   },
   "file_extension": ".py",
   "mimetype": "text/x-python",
   "name": "python",
   "nbconvert_exporter": "python",
   "pygments_lexer": "ipython3",
   "version": "3.10.13"
  }
 },
 "nbformat": 4,
 "nbformat_minor": 5
}
