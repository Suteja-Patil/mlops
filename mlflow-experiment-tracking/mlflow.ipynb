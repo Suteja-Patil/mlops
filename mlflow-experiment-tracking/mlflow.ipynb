{
 "cells": [
  {
   "cell_type": "code",
   "execution_count": 1,
   "id": "d91bdb7c",
   "metadata": {},
   "outputs": [],
   "source": [
    "## Suteja Patil"
   ]
  },
  {
   "cell_type": "markdown",
   "id": "9a331349",
   "metadata": {},
   "source": [
    "## Green Taxi Trip Records for Jan, Feb and March 2023"
   ]
  },
  {
   "cell_type": "code",
   "execution_count": 2,
   "id": "7a3fc992",
   "metadata": {},
   "outputs": [],
   "source": [
    "import pandas as pd"
   ]
  },
  {
   "cell_type": "code",
   "execution_count": 3,
   "id": "4d97f837",
   "metadata": {},
   "outputs": [],
   "source": [
    "jan23 = pd.read_parquet('https://d37ci6vzurychx.cloudfront.net/trip-data/green_tripdata_2023-01.parquet')"
   ]
  },
  {
   "cell_type": "code",
   "execution_count": 4,
   "id": "3bff3a04",
   "metadata": {},
   "outputs": [],
   "source": [
    "feb23 = pd.read_parquet('https://d37ci6vzurychx.cloudfront.net/trip-data/green_tripdata_2023-02.parquet')"
   ]
  },
  {
   "cell_type": "code",
   "execution_count": 5,
   "id": "125debb7",
   "metadata": {},
   "outputs": [],
   "source": [
    "mar23 = pd.read_parquet('https://d37ci6vzurychx.cloudfront.net/trip-data/green_tripdata_2023-03.parquet')"
   ]
  },
  {
   "cell_type": "code",
   "execution_count": null,
   "id": "a543d510",
   "metadata": {},
   "outputs": [],
   "source": [
    "import os\n",
    "os.makedirs('./data')"
   ]
  },
  {
   "cell_type": "code",
   "execution_count": 6,
   "id": "eb928926",
   "metadata": {},
   "outputs": [],
   "source": [
    "jan23.to_parquet('./data/green_tripdata_2023-01.parquet')\n",
    "feb23.to_parquet('./data/green_tripdata_2023-02.parquet')\n",
    "mar23.to_parquet('./data/green_tripdata_2023-03.parquet')"
   ]
  },
  {
   "cell_type": "code",
   "execution_count": 7,
   "id": "1c567fd2",
   "metadata": {},
   "outputs": [],
   "source": [
    "!python preprocess_data.py --raw_data_path data/ --dest_path ./output"
   ]
  },
  {
   "cell_type": "markdown",
   "id": "fb65efbd",
   "metadata": {},
   "source": [
    "## Train a model with autolog"
   ]
  },
  {
   "cell_type": "markdown",
   "id": "79013733",
   "metadata": {},
   "source": []
  },
  {
   "cell_type": "code",
   "execution_count": 8,
   "id": "79552dc8",
   "metadata": {},
   "outputs": [
    {
     "name": "stdout",
     "output_type": "stream",
     "text": [
      "2025/06/01 10:59:39 INFO mlflow.store.db.utils: Creating initial MLflow database tables...\n",
      "2025/06/01 10:59:39 INFO mlflow.store.db.utils: Updating database tables\n",
      "INFO  [alembic.runtime.migration] Context impl SQLiteImpl.\n",
      "INFO  [alembic.runtime.migration] Will assume non-transactional DDL.\n",
      "INFO  [alembic.runtime.migration] Running upgrade  -> 451aebb31d03, add metric step\n",
      "INFO  [alembic.runtime.migration] Running upgrade 451aebb31d03 -> 90e64c465722, migrate user column to tags\n",
      "INFO  [alembic.runtime.migration] Running upgrade 90e64c465722 -> 181f10493468, allow nulls for metric values\n",
      "INFO  [alembic.runtime.migration] Running upgrade 181f10493468 -> df50e92ffc5e, Add Experiment Tags Table\n",
      "INFO  [alembic.runtime.migration] Running upgrade df50e92ffc5e -> 7ac759974ad8, Update run tags with larger limit\n",
      "INFO  [alembic.runtime.migration] Running upgrade 7ac759974ad8 -> 89d4b8295536, create latest metrics table\n",
      "INFO  [89d4b8295536_create_latest_metrics_table_py] Migration complete!\n",
      "INFO  [alembic.runtime.migration] Running upgrade 89d4b8295536 -> 2b4d017a5e9b, add model registry tables to db\n",
      "INFO  [2b4d017a5e9b_add_model_registry_tables_to_db_py] Adding registered_models and model_versions tables to database.\n",
      "INFO  [2b4d017a5e9b_add_model_registry_tables_to_db_py] Migration complete!\n",
      "INFO  [alembic.runtime.migration] Running upgrade 2b4d017a5e9b -> cfd24bdc0731, Update run status constraint with killed\n",
      "INFO  [alembic.runtime.migration] Running upgrade cfd24bdc0731 -> 0a8213491aaa, drop_duplicate_killed_constraint\n",
      "INFO  [alembic.runtime.migration] Running upgrade 0a8213491aaa -> 728d730b5ebd, add registered model tags table\n",
      "INFO  [alembic.runtime.migration] Running upgrade 728d730b5ebd -> 27a6a02d2cf1, add model version tags table\n",
      "INFO  [alembic.runtime.migration] Running upgrade 27a6a02d2cf1 -> 84291f40a231, add run_link to model_version\n",
      "INFO  [alembic.runtime.migration] Running upgrade 84291f40a231 -> a8c4a736bde6, allow nulls for run_id\n",
      "INFO  [alembic.runtime.migration] Running upgrade a8c4a736bde6 -> 39d1c3be5f05, add_is_nan_constraint_for_metrics_tables_if_necessary\n",
      "INFO  [alembic.runtime.migration] Running upgrade 39d1c3be5f05 -> c48cb773bb87, reset_default_value_for_is_nan_in_metrics_table_for_mysql\n",
      "INFO  [alembic.runtime.migration] Running upgrade c48cb773bb87 -> bd07f7e963c5, create index on run_uuid\n",
      "INFO  [alembic.runtime.migration] Running upgrade bd07f7e963c5 -> 0c779009ac13, add deleted_time field to runs table\n",
      "INFO  [alembic.runtime.migration] Running upgrade 0c779009ac13 -> cc1f77228345, change param value length to 500\n",
      "INFO  [alembic.runtime.migration] Running upgrade cc1f77228345 -> 97727af70f4d, Add creation_time and last_update_time to experiments table\n",
      "INFO  [alembic.runtime.migration] Running upgrade 97727af70f4d -> 3500859a5d39, Add Model Aliases table\n",
      "INFO  [alembic.runtime.migration] Running upgrade 3500859a5d39 -> 7f2a7d5fae7d, add datasets inputs input_tags tables\n",
      "INFO  [alembic.runtime.migration] Running upgrade 7f2a7d5fae7d -> 2d6e25af4d3e, increase max param val length from 500 to 8000\n",
      "INFO  [alembic.runtime.migration] Running upgrade 2d6e25af4d3e -> acf3f17fdcc7, add storage location field to model versions\n",
      "INFO  [alembic.runtime.migration] Running upgrade acf3f17fdcc7 -> 867495a8f9d4, add trace tables\n",
      "INFO  [alembic.runtime.migration] Running upgrade 867495a8f9d4 -> 5b0e9adcef9c, add cascade deletion to trace tables foreign keys\n",
      "INFO  [alembic.runtime.migration] Running upgrade 5b0e9adcef9c -> 4465047574b1, increase max dataset schema size\n",
      "INFO  [alembic.runtime.migration] Running upgrade 4465047574b1 -> f5a4f2784254, increase run tag value limit to 8000\n",
      "INFO  [alembic.runtime.migration] Running upgrade f5a4f2784254 -> 0584bdc529eb, add cascading deletion to datasets from experiments\n",
      "INFO  [alembic.runtime.migration] Context impl SQLiteImpl.\n",
      "INFO  [alembic.runtime.migration] Will assume non-transactional DDL.\n",
      "[2025-06-01 10:59:40 -0400] [24170] [INFO] Starting gunicorn 23.0.0\n",
      "[2025-06-01 10:59:40 -0400] [24170] [ERROR] Connection in use: ('127.0.0.1', 8080)\n",
      "[2025-06-01 10:59:40 -0400] [24170] [ERROR] connection to ('127.0.0.1', 8080) failed: [Errno 48] Address already in use\n",
      "[2025-06-01 10:59:41 -0400] [24170] [ERROR] Connection in use: ('127.0.0.1', 8080)\n",
      "[2025-06-01 10:59:41 -0400] [24170] [ERROR] connection to ('127.0.0.1', 8080) failed: [Errno 48] Address already in use\n",
      "[2025-06-01 10:59:42 -0400] [24170] [ERROR] Connection in use: ('127.0.0.1', 8080)\n",
      "[2025-06-01 10:59:42 -0400] [24170] [ERROR] connection to ('127.0.0.1', 8080) failed: [Errno 48] Address already in use\n",
      "[2025-06-01 10:59:43 -0400] [24170] [ERROR] Connection in use: ('127.0.0.1', 8080)\n",
      "[2025-06-01 10:59:43 -0400] [24170] [ERROR] connection to ('127.0.0.1', 8080) failed: [Errno 48] Address already in use\n",
      "[2025-06-01 10:59:44 -0400] [24170] [ERROR] Connection in use: ('127.0.0.1', 8080)\n",
      "[2025-06-01 10:59:44 -0400] [24170] [ERROR] connection to ('127.0.0.1', 8080) failed: [Errno 48] Address already in use\n",
      "[2025-06-01 10:59:45 -0400] [24170] [ERROR] Can't connect to ('127.0.0.1', 8080)\n",
      "Running the mlflow server failed. Please see the logs above for details.\n"
     ]
    }
   ],
   "source": [
    "!mlflow server --backend-store-uri sqlite:///mlflow.db --default-artifact-root ./mlruns --host 127.0.0.1 --port 8080"
   ]
  },
  {
   "cell_type": "code",
   "execution_count": 10,
   "id": "4b0eab46",
   "metadata": {},
   "outputs": [],
   "source": [
    "!python train.py"
   ]
  },
  {
   "cell_type": "markdown",
   "id": "83a98ac9",
   "metadata": {},
   "source": [
    "## Tune model hyperparameters"
   ]
  },
  {
   "cell_type": "code",
   "execution_count": 12,
   "id": "0b5cad43",
   "metadata": {},
   "outputs": [
    {
     "name": "stdout",
     "output_type": "stream",
     "text": [
      "Collecting hyperopt\n",
      "  Using cached hyperopt-0.2.7-py2.py3-none-any.whl.metadata (1.7 kB)\n",
      "Requirement already satisfied: numpy in /opt/anaconda3/envs/mlflow_env/lib/python3.10/site-packages (from hyperopt) (1.26.4)\n",
      "Requirement already satisfied: scipy in /opt/anaconda3/envs/mlflow_env/lib/python3.10/site-packages (from hyperopt) (1.15.3)\n",
      "Requirement already satisfied: six in /opt/anaconda3/envs/mlflow_env/lib/python3.10/site-packages (from hyperopt) (1.17.0)\n",
      "Collecting networkx>=2.2 (from hyperopt)\n",
      "  Downloading networkx-3.4.2-py3-none-any.whl.metadata (6.3 kB)\n",
      "Collecting future (from hyperopt)\n",
      "  Using cached future-1.0.0-py3-none-any.whl.metadata (4.0 kB)\n",
      "Collecting tqdm (from hyperopt)\n",
      "  Downloading tqdm-4.67.1-py3-none-any.whl.metadata (57 kB)\n",
      "Requirement already satisfied: cloudpickle in /opt/anaconda3/envs/mlflow_env/lib/python3.10/site-packages (from hyperopt) (3.0.0)\n",
      "Collecting py4j (from hyperopt)\n",
      "  Using cached py4j-0.10.9.9-py2.py3-none-any.whl.metadata (1.3 kB)\n",
      "Using cached hyperopt-0.2.7-py2.py3-none-any.whl (1.6 MB)\n",
      "Downloading networkx-3.4.2-py3-none-any.whl (1.7 MB)\n",
      "\u001b[2K   \u001b[90m━━━━━━━━━━━━━━━━━━━━━━━━━━━━━━━━━━━━━━━━\u001b[0m \u001b[32m1.7/1.7 MB\u001b[0m \u001b[31m25.0 MB/s\u001b[0m eta \u001b[36m0:00:00\u001b[0m\n",
      "\u001b[?25hUsing cached future-1.0.0-py3-none-any.whl (491 kB)\n",
      "Using cached py4j-0.10.9.9-py2.py3-none-any.whl (203 kB)\n",
      "Downloading tqdm-4.67.1-py3-none-any.whl (78 kB)\n",
      "Installing collected packages: py4j, tqdm, networkx, future, hyperopt\n",
      "\u001b[2K   \u001b[90m━━━━━━━━━━━━━━━━━━━━━━━━━━━━━━━━━━━━━━━━\u001b[0m \u001b[32m5/5\u001b[0m [hyperopt]4/5\u001b[0m [hyperopt]\n",
      "\u001b[1A\u001b[2KSuccessfully installed future-1.0.0 hyperopt-0.2.7 networkx-3.4.2 py4j-0.10.9.9 tqdm-4.67.1\n"
     ]
    }
   ],
   "source": [
    "!pip install hyperopt"
   ]
  },
  {
   "cell_type": "code",
   "execution_count": 15,
   "id": "ae533717",
   "metadata": {},
   "outputs": [
    {
     "name": "stdout",
     "output_type": "stream",
     "text": [
      "🏃 View run charming-cat-51 at: http://127.0.0.1:8080/#/experiments/2/runs/54627f11218344d6a905c618ea25bd8d\n",
      "\n",
      "🧪 View experiment at: http://127.0.0.1:8080/#/experiments/2                    \n",
      "\n",
      "🏃 View run bald-lamb-269 at: http://127.0.0.1:8080/#/experiments/2/runs/b79523cf4b6c479f8dcc43b46e326d03\n",
      "\n",
      "🧪 View experiment at: http://127.0.0.1:8080/#/experiments/2                    \n",
      "\n",
      "🏃 View run youthful-shoat-470 at: http://127.0.0.1:8080/#/experiments/2/runs/65bfd375ec0b401d88167f95c613549a\n",
      "\n",
      "🧪 View experiment at: http://127.0.0.1:8080/#/experiments/2                    \n",
      "\n",
      "🏃 View run bustling-owl-272 at: http://127.0.0.1:8080/#/experiments/2/runs/89a75dec6fd5481a9ad8d5ee8a3ecaad\n",
      "\n",
      "🧪 View experiment at: http://127.0.0.1:8080/#/experiments/2                    \n",
      "\n",
      "🏃 View run classy-shrike-801 at: http://127.0.0.1:8080/#/experiments/2/runs/838aeb65d33049a3a81254345a2909e0\n",
      "\n",
      "🧪 View experiment at: http://127.0.0.1:8080/#/experiments/2                    \n",
      "\n",
      "🏃 View run calm-squirrel-272 at: http://127.0.0.1:8080/#/experiments/2/runs/90d191251dcf43fdbdfcef168b76fd01\n",
      "\n",
      "🧪 View experiment at: http://127.0.0.1:8080/#/experiments/2                    \n",
      "\n",
      "🏃 View run calm-swan-836 at: http://127.0.0.1:8080/#/experiments/2/runs/937d8b41dfe24e088fa5484aefe30cde\n",
      "\n",
      "🧪 View experiment at: http://127.0.0.1:8080/#/experiments/2                    \n",
      "\n",
      "🏃 View run legendary-carp-976 at: http://127.0.0.1:8080/#/experiments/2/runs/eb252f62287642ad880594c995a632f1\n",
      "\n",
      "🧪 View experiment at: http://127.0.0.1:8080/#/experiments/2                    \n",
      "\n",
      "🏃 View run unequaled-dove-533 at: http://127.0.0.1:8080/#/experiments/2/runs/a61773b72a4349ae81e05a0963d015b5\n",
      "\n",
      "🧪 View experiment at: http://127.0.0.1:8080/#/experiments/2                    \n",
      "\n",
      "🏃 View run carefree-ox-996 at: http://127.0.0.1:8080/#/experiments/2/runs/23adfddb99324b34bcf464b0d2a2bea1\n",
      "\n",
      "🧪 View experiment at: http://127.0.0.1:8080/#/experiments/2                    \n",
      "\n",
      "🏃 View run dapper-stag-297 at: http://127.0.0.1:8080/#/experiments/2/runs/0843313a49774919b84eb37a3f198160\n",
      "\n",
      "🧪 View experiment at: http://127.0.0.1:8080/#/experiments/2                    \n",
      "\n",
      "🏃 View run indecisive-sow-898 at: http://127.0.0.1:8080/#/experiments/2/runs/96035685399c46caba71fc8b0cc17fd8\n",
      "\n",
      "🧪 View experiment at: http://127.0.0.1:8080/#/experiments/2                    \n",
      "\n",
      "🏃 View run angry-snipe-614 at: http://127.0.0.1:8080/#/experiments/2/runs/6eaf2cc2e6ca4373aac7eafecb39b2eb\n",
      "\n",
      "🧪 View experiment at: http://127.0.0.1:8080/#/experiments/2                    \n",
      "\n",
      "🏃 View run angry-colt-246 at: http://127.0.0.1:8080/#/experiments/2/runs/80ea26879b5e421786f10025306fcc6e\n",
      "\n",
      "🧪 View experiment at: http://127.0.0.1:8080/#/experiments/2                    \n",
      "\n",
      "🏃 View run zealous-boar-554 at: http://127.0.0.1:8080/#/experiments/2/runs/ce3e2106e112441a8e510eed9d51a4aa\n",
      "\n",
      "🧪 View experiment at: http://127.0.0.1:8080/#/experiments/2                    \n",
      "\n",
      "100%|██████████| 15/15 [00:52<00:00,  3.52s/trial, best loss: 5.335419588556921]\n"
     ]
    }
   ],
   "source": [
    "!python hpo.py"
   ]
  },
  {
   "cell_type": "markdown",
   "id": "124439b7",
   "metadata": {},
   "source": [
    "## Log the best model to mlflow registry"
   ]
  },
  {
   "cell_type": "code",
   "execution_count": 16,
   "id": "e8e024ac",
   "metadata": {},
   "outputs": [
    {
     "name": "stdout",
     "output_type": "stream",
     "text": [
      "2025/06/01 11:24:24 INFO mlflow.tracking.fluent: Experiment with name 'random-forest-best-models' does not exist. Creating a new experiment.\n",
      "2025/06/01 11:24:24 WARNING mlflow.utils.autologging_utils: MLflow sklearn autologging is known to be compatible with 0.24.1 <= scikit-learn <= 1.5.2, but the installed version is 1.6.1. If you encounter errors during autologging, try upgrading / downgrading scikit-learn to a compatible version, or try upgrading MLflow.\n",
      "2025/06/01 11:24:28 WARNING mlflow.sklearn: Failed to log training dataset information to MLflow Tracking. Reason: 'numpy.ndarray' object has no attribute 'toarray'\n",
      "🏃 View run valuable-hare-584 at: http://127.0.0.1:8080/#/experiments/3/runs/b23c3532ab2140518b06adb593f2c856\n",
      "🧪 View experiment at: http://127.0.0.1:8080/#/experiments/3\n",
      "2025/06/01 11:24:38 WARNING mlflow.sklearn: Failed to log training dataset information to MLflow Tracking. Reason: 'numpy.ndarray' object has no attribute 'toarray'\n",
      "🏃 View run bouncy-mole-503 at: http://127.0.0.1:8080/#/experiments/3/runs/f8fee30b31fe4283a8ee7be2a5ff97a2\n",
      "🧪 View experiment at: http://127.0.0.1:8080/#/experiments/3\n",
      "2025/06/01 11:24:53 WARNING mlflow.sklearn: Failed to log training dataset information to MLflow Tracking. Reason: 'numpy.ndarray' object has no attribute 'toarray'\n",
      "🏃 View run overjoyed-bear-689 at: http://127.0.0.1:8080/#/experiments/3/runs/859a26669b094558bd06111e3ac7cbe7\n",
      "🧪 View experiment at: http://127.0.0.1:8080/#/experiments/3\n",
      "2025/06/01 11:25:04 WARNING mlflow.sklearn: Failed to log training dataset information to MLflow Tracking. Reason: 'numpy.ndarray' object has no attribute 'toarray'\n",
      "🏃 View run grandiose-mouse-13 at: http://127.0.0.1:8080/#/experiments/3/runs/2d6feec78db24d8a93f9653827a1c4ce\n",
      "🧪 View experiment at: http://127.0.0.1:8080/#/experiments/3\n",
      "2025/06/01 11:25:15 WARNING mlflow.sklearn: Failed to log training dataset information to MLflow Tracking. Reason: 'numpy.ndarray' object has no attribute 'toarray'\n",
      "🏃 View run sneaky-snake-691 at: http://127.0.0.1:8080/#/experiments/3/runs/413eb3f1868d4f0d832517c8de09df9e\n",
      "🧪 View experiment at: http://127.0.0.1:8080/#/experiments/3\n",
      "Successfully registered model 'best_rf_model'.\n",
      "2025/06/01 11:25:26 INFO mlflow.store.model_registry.abstract_store: Waiting up to 300 seconds for model version to finish creation. Model name: best_rf_model, version 1\n",
      "Created version '1' of model 'best_rf_model'.\n"
     ]
    }
   ],
   "source": [
    "!python register_model.py"
   ]
  }
 ],
 "metadata": {
  "kernelspec": {
   "display_name": "mlflow_env",
   "language": "python",
   "name": "python3"
  },
  "language_info": {
   "codemirror_mode": {
    "name": "ipython",
    "version": 3
   },
   "file_extension": ".py",
   "mimetype": "text/x-python",
   "name": "python",
   "nbconvert_exporter": "python",
   "pygments_lexer": "ipython3",
   "version": "3.10.13"
  }
 },
 "nbformat": 4,
 "nbformat_minor": 5
}
