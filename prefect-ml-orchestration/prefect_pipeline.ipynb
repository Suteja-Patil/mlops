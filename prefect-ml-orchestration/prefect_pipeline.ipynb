{
 "cells": [
  {
   "cell_type": "code",
   "execution_count": 1,
   "id": "76232c58",
   "metadata": {},
   "outputs": [],
   "source": [
    "##SutejaPatil"
   ]
  },
  {
   "cell_type": "markdown",
   "id": "12595a3a",
   "metadata": {},
   "source": [
    "Name of orchestrator - Prefect"
   ]
  },
  {
   "cell_type": "markdown",
   "id": "4d9b4a14",
   "metadata": {},
   "source": [
    "Version of orchestrator"
   ]
  },
  {
   "cell_type": "code",
   "execution_count": 2,
   "id": "1e5f191a",
   "metadata": {},
   "outputs": [
    {
     "name": "stdout",
     "output_type": "stream",
     "text": [
      "3.4.5\n"
     ]
    }
   ],
   "source": [
    "!prefect --version"
   ]
  },
  {
   "cell_type": "code",
   "execution_count": 20,
   "id": "ff3e68a9",
   "metadata": {},
   "outputs": [],
   "source": [
    "import pandas as pd\n",
    "import os"
   ]
  },
  {
   "cell_type": "code",
   "execution_count": 4,
   "id": "b47f9560",
   "metadata": {},
   "outputs": [],
   "source": [
    "march_2023 =  pd.read_parquet('https://d37ci6vzurychx.cloudfront.net/trip-data/yellow_tripdata_2023-03.parquet')\n"
   ]
  },
  {
   "cell_type": "code",
   "execution_count": 5,
   "id": "7f67ad30",
   "metadata": {},
   "outputs": [
    {
     "data": {
      "text/plain": [
       "(3403766, 19)"
      ]
     },
     "execution_count": 5,
     "metadata": {},
     "output_type": "execute_result"
    }
   ],
   "source": [
    "march_2023.shape"
   ]
  },
  {
   "cell_type": "code",
   "execution_count": 6,
   "id": "0c61c3af",
   "metadata": {},
   "outputs": [
    {
     "name": "stdout",
     "output_type": "stream",
     "text": [
      "Total records : 3403766\n"
     ]
    }
   ],
   "source": [
    "print('Total records :', march_2023.shape[0])"
   ]
  },
  {
   "cell_type": "markdown",
   "id": "80504459",
   "metadata": {},
   "source": [
    "Data Preparation"
   ]
  },
  {
   "cell_type": "code",
   "execution_count": 7,
   "id": "bd3949c3",
   "metadata": {},
   "outputs": [],
   "source": [
    "def read_dataframe(filename):\n",
    "    df = pd.read_parquet(filename)\n",
    "\n",
    "    df['duration'] = df.tpep_dropoff_datetime - df.tpep_pickup_datetime\n",
    "    df.duration = df.duration.dt.total_seconds() / 60\n",
    "\n",
    "    df = df[(df.duration >= 1) & (df.duration <= 60)]\n",
    "\n",
    "    categorical = ['PULocationID', 'DOLocationID']\n",
    "    df[categorical] = df[categorical].astype(str)\n",
    "    \n",
    "    return df"
   ]
  },
  {
   "cell_type": "code",
   "execution_count": 8,
   "id": "0c3c3452",
   "metadata": {},
   "outputs": [],
   "source": [
    "filename = 'https://d37ci6vzurychx.cloudfront.net/trip-data/yellow_tripdata_2023-03.parquet'"
   ]
  },
  {
   "cell_type": "code",
   "execution_count": 9,
   "id": "5a7668e3",
   "metadata": {},
   "outputs": [],
   "source": [
    "df = read_dataframe(filename)"
   ]
  },
  {
   "cell_type": "code",
   "execution_count": 10,
   "id": "904ffe63",
   "metadata": {},
   "outputs": [
    {
     "name": "stdout",
     "output_type": "stream",
     "text": [
      "Size of the result:  3316216\n"
     ]
    }
   ],
   "source": [
    "print('Size of the result: ',df.shape[0])"
   ]
  },
  {
   "cell_type": "code",
   "execution_count": null,
   "id": "b149b31b",
   "metadata": {},
   "outputs": [],
   "source": []
  },
  {
   "cell_type": "code",
   "execution_count": 11,
   "id": "1ef05868",
   "metadata": {},
   "outputs": [],
   "source": [
    "from prefect import task,flow\n",
    "from sklearn.feature_extraction import DictVectorizer\n",
    "from sklearn.linear_model import LinearRegression\n",
    "from sklearn.metrics import mean_squared_error\n",
    "import numpy as np\n",
    "import mlflow"
   ]
  },
  {
   "cell_type": "code",
   "execution_count": 12,
   "id": "3cc98f7e",
   "metadata": {},
   "outputs": [],
   "source": [
    "@task\n",
    "def clean_data(df:pd.DataFrame):\n",
    "    df['duration'] = df['tpep_dropoff_datetime'] - df['tpep_pickup_datetime']\n",
    "    df['duration'] = pd.to_timedelta(df['duration']).dt.total_seconds() / 60\n",
    "    df_no_outliers = df[df['duration'].between(1,60)]\n",
    "    df_new = df_no_outliers[['PULocationID','DOLocationID']]\n",
    "    df_new['PULocationID'] = df_new['PULocationID'].astype(str)\n",
    "    df_new['DOLocationID'] = df_new['DOLocationID'].astype(str)\n",
    "    return df_new, df_no_outliers"
   ]
  },
  {
   "cell_type": "code",
   "execution_count": 13,
   "id": "0009b3fd",
   "metadata": {},
   "outputs": [],
   "source": [
    "@task\n",
    "def vectorize_data(df:pd.DataFrame, df_no_outliers:pd.DataFrame):\n",
    "    dicts = df[['PULocationID', 'DOLocationID']].to_dict(orient='records')\n",
    "    dv = DictVectorizer()\n",
    "    X = dv.fit_transform(dicts)\n",
    "    y =  df_no_outliers['duration'].values\n",
    "    return X,y\n"
   ]
  },
  {
   "cell_type": "code",
   "execution_count": 14,
   "id": "e3fa20f5",
   "metadata": {},
   "outputs": [],
   "source": [
    "@task\n",
    "def train_model(X,y):\n",
    "    model = LinearRegression()\n",
    "    model.fit(X, y)\n",
    "    print(\"******** Model intercept ********* :\",model.intercept_)\n",
    "    return model, model.intercept_"
   ]
  },
  {
   "cell_type": "code",
   "execution_count": 15,
   "id": "562e323e",
   "metadata": {},
   "outputs": [],
   "source": [
    "@flow\n",
    "def main(df):\n",
    "    df_new, df_no_outliers = clean_data(df)\n",
    "    X,y = vectorize_data(df_new, df_no_outliers)\n",
    "    model,model_intercept = train_model(X,y)\n",
    "\n",
    "    with mlflow.start_run():\n",
    "        mlflow.sklearn.log_model(\n",
    "            sk_model=model,\n",
    "            artifact_path=\"model\",\n",
    "            input_example=X.iloc[:5] if hasattr(X, 'iloc') else X[:5],\n",
    "            registered_model_name=\"sk-learn-linear-reg-model\"\n",
    "        )\n",
    "    \n",
    "    return model_intercept"
   ]
  },
  {
   "cell_type": "code",
   "execution_count": 16,
   "id": "78d9ee05",
   "metadata": {},
   "outputs": [
    {
     "data": {
      "text/html": [
       "<pre style=\"white-space:pre;overflow-x:auto;line-height:normal;font-family:Menlo,'DejaVu Sans Mono',consolas,'Courier New',monospace\">15:24:51.889 | <span style=\"color: #008080; text-decoration-color: #008080\">INFO</span>    | prefect - Starting temporary server on <span style=\"color: #0000ff; text-decoration-color: #0000ff\">http://127.0.0.1:8929</span>\n",
       "See <span style=\"color: #0000ff; text-decoration-color: #0000ff\">https://docs.prefect.io/3.0/manage/self-host#self-host-a-prefect-server</span> for more information on running a dedicated Prefect server.\n",
       "</pre>\n"
      ],
      "text/plain": [
       "15:24:51.889 | \u001b[36mINFO\u001b[0m    | prefect - Starting temporary server on \u001b[94mhttp://127.0.0.1:8929\u001b[0m\n",
       "See \u001b[94mhttps://docs.prefect.io/3.0/manage/self-host#self-host-a-prefect-server\u001b[0m for more information on running a dedicated Prefect server.\n"
      ]
     },
     "metadata": {},
     "output_type": "display_data"
    },
    {
     "data": {
      "text/html": [
       "<pre style=\"white-space:pre;overflow-x:auto;line-height:normal;font-family:Menlo,'DejaVu Sans Mono',consolas,'Courier New',monospace\">15:25:09.717 | <span style=\"color: #008080; text-decoration-color: #008080\">INFO</span>    | Flow run<span style=\"color: #800080; text-decoration-color: #800080\"> 'dramatic-roadrunner'</span> - Beginning flow run<span style=\"color: #800080; text-decoration-color: #800080\"> 'dramatic-roadrunner'</span> for flow<span style=\"color: #800080; text-decoration-color: #800080; font-weight: bold\"> 'main'</span>\n",
       "</pre>\n"
      ],
      "text/plain": [
       "15:25:09.717 | \u001b[36mINFO\u001b[0m    | Flow run\u001b[35m 'dramatic-roadrunner'\u001b[0m - Beginning flow run\u001b[35m 'dramatic-roadrunner'\u001b[0m for flow\u001b[1;35m 'main'\u001b[0m\n"
      ]
     },
     "metadata": {},
     "output_type": "display_data"
    },
    {
     "name": "stderr",
     "output_type": "stream",
     "text": [
      "/var/folders/7_/3vyylc4j6w31pljnycmqmymc0000gn/T/ipykernel_36482/129481243.py:7: SettingWithCopyWarning: \n",
      "A value is trying to be set on a copy of a slice from a DataFrame.\n",
      "Try using .loc[row_indexer,col_indexer] = value instead\n",
      "\n",
      "See the caveats in the documentation: https://pandas.pydata.org/pandas-docs/stable/user_guide/indexing.html#returning-a-view-versus-a-copy\n",
      "  df_new['PULocationID'] = df_new['PULocationID'].astype(str)\n",
      "/var/folders/7_/3vyylc4j6w31pljnycmqmymc0000gn/T/ipykernel_36482/129481243.py:8: SettingWithCopyWarning: \n",
      "A value is trying to be set on a copy of a slice from a DataFrame.\n",
      "Try using .loc[row_indexer,col_indexer] = value instead\n",
      "\n",
      "See the caveats in the documentation: https://pandas.pydata.org/pandas-docs/stable/user_guide/indexing.html#returning-a-view-versus-a-copy\n",
      "  df_new['DOLocationID'] = df_new['DOLocationID'].astype(str)\n"
     ]
    },
    {
     "data": {
      "text/html": [
       "<pre style=\"white-space:pre;overflow-x:auto;line-height:normal;font-family:Menlo,'DejaVu Sans Mono',consolas,'Courier New',monospace\">15:25:14.561 | <span style=\"color: #008080; text-decoration-color: #008080\">INFO</span>    | Task run 'clean_data-dcf' - Finished in state <span style=\"color: #008000; text-decoration-color: #008000\">Completed</span>()\n",
       "</pre>\n"
      ],
      "text/plain": [
       "15:25:14.561 | \u001b[36mINFO\u001b[0m    | Task run 'clean_data-dcf' - Finished in state \u001b[32mCompleted\u001b[0m()\n"
      ]
     },
     "metadata": {},
     "output_type": "display_data"
    },
    {
     "data": {
      "text/html": [
       "<pre style=\"white-space:pre;overflow-x:auto;line-height:normal;font-family:Menlo,'DejaVu Sans Mono',consolas,'Courier New',monospace\">15:25:33.984 | <span style=\"color: #008080; text-decoration-color: #008080\">INFO</span>    | Task run 'vectorize_data-62b' - Finished in state <span style=\"color: #008000; text-decoration-color: #008000\">Completed</span>()\n",
       "</pre>\n"
      ],
      "text/plain": [
       "15:25:33.984 | \u001b[36mINFO\u001b[0m    | Task run 'vectorize_data-62b' - Finished in state \u001b[32mCompleted\u001b[0m()\n"
      ]
     },
     "metadata": {},
     "output_type": "display_data"
    },
    {
     "name": "stdout",
     "output_type": "stream",
     "text": [
      "******** Model intercept ********* : 24.774857138926837\n"
     ]
    },
    {
     "data": {
      "text/html": [
       "<pre style=\"white-space:pre;overflow-x:auto;line-height:normal;font-family:Menlo,'DejaVu Sans Mono',consolas,'Courier New',monospace\">15:27:17.103 | <span style=\"color: #008080; text-decoration-color: #008080\">INFO</span>    | Task run 'train_model-60a' - Finished in state <span style=\"color: #008000; text-decoration-color: #008000\">Completed</span>()\n",
       "</pre>\n"
      ],
      "text/plain": [
       "15:27:17.103 | \u001b[36mINFO\u001b[0m    | Task run 'train_model-60a' - Finished in state \u001b[32mCompleted\u001b[0m()\n"
      ]
     },
     "metadata": {},
     "output_type": "display_data"
    },
    {
     "name": "stderr",
     "output_type": "stream",
     "text": [
      "Successfully registered model 'sk-learn-linear-reg-model'.\n",
      "Created version '1' of model 'sk-learn-linear-reg-model'.\n"
     ]
    },
    {
     "data": {
      "text/html": [
       "<pre style=\"white-space:pre;overflow-x:auto;line-height:normal;font-family:Menlo,'DejaVu Sans Mono',consolas,'Courier New',monospace\">15:27:21.409 | <span style=\"color: #008080; text-decoration-color: #008080\">INFO</span>    | Flow run<span style=\"color: #800080; text-decoration-color: #800080\"> 'dramatic-roadrunner'</span> - Finished in state <span style=\"color: #008000; text-decoration-color: #008000\">Completed</span>()\n",
       "</pre>\n"
      ],
      "text/plain": [
       "15:27:21.409 | \u001b[36mINFO\u001b[0m    | Flow run\u001b[35m 'dramatic-roadrunner'\u001b[0m - Finished in state \u001b[32mCompleted\u001b[0m()\n"
      ]
     },
     "metadata": {},
     "output_type": "display_data"
    }
   ],
   "source": [
    "if __name__ == '__main__':\n",
    "    model_intercept = main(df)"
   ]
  },
  {
   "cell_type": "code",
   "execution_count": 17,
   "id": "bb9c8b3e",
   "metadata": {},
   "outputs": [
    {
     "name": "stdout",
     "output_type": "stream",
     "text": [
      "Model Intercept :  24.774857138926837\n"
     ]
    }
   ],
   "source": [
    "print('Model Intercept : ', model_intercept)"
   ]
  },
  {
   "cell_type": "code",
   "execution_count": 19,
   "id": "47366a92",
   "metadata": {},
   "outputs": [],
   "source": [
    "model_uri = \"models:/sk-learn-linear-reg-model/1\""
   ]
  },
  {
   "cell_type": "code",
   "execution_count": 21,
   "id": "b996232a",
   "metadata": {},
   "outputs": [],
   "source": [
    "local_path = mlflow.artifacts.download_artifacts(artifact_uri=model_uri)\n",
    "        \n",
    "total_size = 0\n",
    "for dirpath, _, filenames in os.walk(local_path):\n",
    "    for f in filenames:\n",
    "        fp = os.path.join(dirpath, f)\n",
    "        total_size += os.path.getsize(fp)"
   ]
  },
  {
   "cell_type": "code",
   "execution_count": 22,
   "id": "6d05527c",
   "metadata": {},
   "outputs": [
    {
     "data": {
      "text/plain": [
       "34714"
      ]
     },
     "execution_count": 22,
     "metadata": {},
     "output_type": "execute_result"
    }
   ],
   "source": [
    "total_size"
   ]
  },
  {
   "cell_type": "markdown",
   "id": "1228517f",
   "metadata": {},
   "source": []
  }
 ],
 "metadata": {
  "kernelspec": {
   "display_name": "prefect-ops",
   "language": "python",
   "name": "python3"
  },
  "language_info": {
   "codemirror_mode": {
    "name": "ipython",
    "version": 3
   },
   "file_extension": ".py",
   "mimetype": "text/x-python",
   "name": "python",
   "nbconvert_exporter": "python",
   "pygments_lexer": "ipython3",
   "version": "3.13.4"
  }
 },
 "nbformat": 4,
 "nbformat_minor": 5
}
